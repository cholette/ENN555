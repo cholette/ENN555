{
 "cells": [
  {
   "cell_type": "markdown",
   "id": "f917edd2",
   "metadata": {},
   "source": [
    "# Simple dispatching optimization"
   ]
  },
  {
   "cell_type": "code",
   "execution_count": null,
   "id": "cb8bb9c9",
   "metadata": {},
   "outputs": [],
   "source": [
    "import pandas as pd\n",
    "import gurobipy as gp\n",
    "from datetime import datetime, timedelta\n",
    "from zoneinfo import ZoneInfo\n",
    "from os import listdir\n",
    "import matplotlib.pyplot as plt\n",
    "import numpy as np"
   ]
  },
  {
   "cell_type": "code",
   "execution_count": null,
   "id": "8e6de41d",
   "metadata": {},
   "outputs": [],
   "source": [
    "use_raw_price_data = False\n",
    "now = datetime(2024,10,5,0,0,tzinfo=ZoneInfo('Australia/Melbourne'))\n",
    "end = now + timedelta(hours=5*24) # 5 day optimization horizon"
   ]
  },
  {
   "cell_type": "markdown",
   "id": "745547cf",
   "metadata": {},
   "source": [
    "# Load in wind & price data\n",
    "Wind data first"
   ]
  },
  {
   "cell_type": "code",
   "execution_count": null,
   "id": "ba729bae",
   "metadata": {},
   "outputs": [],
   "source": [
    "dfw = pd.read_csv('data/sam_export_2024.csv',header=1)\n",
    "dfw['utc'] = pd.to_datetime(dfw[['Year','Month','Day','Hour']]).dt.tz_localize('UTC') # NASA POWER | DAV provides UTC time\n",
    "dfw['local'] = dfw['utc'].dt.tz_convert('Australia/Melbourne') # localize to UTC+10\n",
    "dfw.set_index('local',inplace=True)"
   ]
  },
  {
   "cell_type": "markdown",
   "id": "6792a4c2",
   "metadata": {},
   "source": [
    "Price data next..."
   ]
  },
  {
   "cell_type": "code",
   "execution_count": null,
   "id": "55e02e92",
   "metadata": {},
   "outputs": [],
   "source": [
    "if use_raw_price_data:\n",
    "    csv_files = [f for f in listdir('data/') if f.endswith('.CSV') if f.startswith('PUBLIC_PRICES')]\n",
    "    df_prices = []\n",
    "    for f in csv_files:\n",
    "        dfp = pd.read_csv(f'data/{f}',header=1,skipfooter=1,usecols=range(3,18))\n",
    "        dfp.rename(columns={'2':\"RUNNO_I_Think\"},inplace=True) # I think that this is the real run number due to the duplicats\n",
    "        most_recent_run = dfp['RUNNO_I_Think'].unique().max()\n",
    "\n",
    "        # get most recent run and the correct region (VIC for this exercise)\n",
    "        dfp = dfp[dfp['REGIONID'].str.contains('VIC') & \n",
    "                            (dfp['RUNNO_I_Think']==most_recent_run)]\n",
    "        dfp['timestamp'] = pd.to_datetime(dfp.loc[:,'SETTLEMENTDATE']).dt.tz_localize('UTC') # set a datetime column\n",
    "        dfp['timestamp'] = dfp['timestamp'].dt.tz_convert('Australia/Melbourne')\n",
    "        dfp['RRP'] = dfp['RRP'].apply(lambda x: float(x))\n",
    "        df_prices.append(dfp)\n",
    "\n",
    "    df_prices = pd.concat(df_prices).sort_values(by='timestamp')\n",
    "    df_prices.set_index('timestamp',inplace=True)\n",
    "    df_prices.rename(columns={'RRP':'Settlement Price'},inplace=True)\n",
    "    df_prices['Settlement Price'].to_csv('data/price_data.csv')\n",
    "else:\n",
    "    df_prices = pd.read_csv('data/price_data.csv',parse_dates=['timestamp'])\n",
    "    df_prices.set_index('timestamp',inplace=True)"
   ]
  },
  {
   "cell_type": "markdown",
   "id": "ea5df57c",
   "metadata": {},
   "source": [
    "Upsample and adjust now/end to the bounds of the wind data"
   ]
  },
  {
   "cell_type": "code",
   "execution_count": null,
   "id": "a4d185e8",
   "metadata": {},
   "outputs": [],
   "source": [
    "dfw = dfw[(dfw.index<=end) & (dfw.index>=now)]\n",
    "dfw_5min = dfw.resample(\"5min\").interpolate(\"linear\") # upsample wind to five minutes\n",
    "now = max(dfw.index[0],now)\n",
    "end = min(dfw.index[-1],end)\n",
    "df_prices = df_prices[(df_prices.index<=end) & (df_prices.index>=now)] # ensure prices and wind have same domain"
   ]
  },
  {
   "cell_type": "markdown",
   "id": "019fa53e",
   "metadata": {},
   "source": [
    "Plot"
   ]
  },
  {
   "cell_type": "code",
   "execution_count": null,
   "id": "052f04da",
   "metadata": {},
   "outputs": [],
   "source": [
    "fig, ax1 = plt.subplots()\n",
    "# dfw.plot(ax=ax1,x='local',y='Wind speed at 100m',color='red')\n",
    "ln1 = ax1.plot(dfw_5min.index,dfw_5min['Wind speed at 100m'],label='Wind speed (5 min)')\n",
    "ax1.set_xlabel('Date/time')\n",
    "ax1.set_ylabel('Wind speed (m/s)')\n",
    "\n",
    "ax2 = ax1.twinx()\n",
    "ln2 = ax2.plot(df_prices.index,df_prices['Settlement Price'],color='red',label='Price')\n",
    "ax2.set_ylabel(\"Prices (AUD/MWh)\", color=\"red\")\n",
    "ax2.tick_params(axis=\"y\", labelcolor=\"red\")\n",
    "\n",
    "# Combine legends\n",
    "lines = ln1 + ln2\n",
    "labels = [l.get_label() for l in lines]\n",
    "ax1.legend(lines, labels, loc=\"best\")"
   ]
  },
  {
   "cell_type": "markdown",
   "id": "db451da3",
   "metadata": {},
   "source": [
    "Export data to csv files"
   ]
  },
  {
   "cell_type": "markdown",
   "id": "5b849c04",
   "metadata": {},
   "source": [
    "## Model setup\n",
    "After SAM is run with the nine turbines, the maximum generation is available $P_{k}^{max}$. This data will be hourly and will need to be upsampled. "
   ]
  },
  {
   "cell_type": "code",
   "execution_count": null,
   "id": "c5f1b634",
   "metadata": {},
   "outputs": [],
   "source": [
    "df_pmax = pd.read_csv('data/wind_farm_production.csv')\n",
    "df_pmax['Time stamp'] = pd.to_datetime(\"2024 \" + df_pmax['Time stamp'], format=\"%Y %b %d, %I:%M %p\")\n",
    "df_pmax['Time stamp'] = df_pmax['Time stamp'].dt.tz_localize('UTC')\n",
    "df_pmax['Time stamp'] = df_pmax['Time stamp'].dt.tz_convert('Australia/Melbourne')\n",
    "df_pmax.set_index('Time stamp',inplace=True)\n",
    "df_pmax = df_pmax[(df_pmax.index<=end) & (df_pmax.index>=now)]\n",
    "df_pmax_5min = df_pmax.resample(\"5T\").interpolate(\"linear\") # upsample wind to five minutes\n",
    "\n",
    "fig, ax1 = plt.subplots()\n",
    "# dfw.plot(ax=ax1,x='local',y='Wind speed at 100m',color='red')\n",
    "ln1 = ax1.plot(df_pmax_5min.index,df_pmax_5min['System power generated | (kW)'],\n",
    "               color='blue',label='Generated power (kW)')\n",
    "ax1.set_xlabel('Date/time')\n",
    "ax1.set_ylabel('Generated power (kW)',color='blue')\n",
    "ax1.tick_params(axis=\"y\", labelcolor=\"blue\")\n",
    "\n",
    "ax2 = ax1.twinx()\n",
    "ln2 = ax2.plot(df_prices.index,df_prices['Settlement Price'],color='red',label='Price')\n",
    "ax2.set_ylabel(\"Prices (AUD/MWh)\", color=\"red\")\n",
    "ax2.tick_params(axis=\"y\", labelcolor=\"red\")\n",
    "\n",
    "# Combine legends\n",
    "lines = ln1 + ln2\n",
    "labels = [l.get_label() for l in lines]\n",
    "ax1.legend(lines, labels, loc=\"best\")\n",
    "\n",
    "# df_pmax_5min.plot(y='System power generated | (kW)')"
   ]
  },
  {
   "cell_type": "code",
   "execution_count": null,
   "id": "67bf2efc",
   "metadata": {},
   "outputs": [],
   "source": [
    "s0,s_max = 100e3, 150e3 #kWh\n",
    "Cs,Cg = 0,0 # no costs for now. Ignoring ramp cost in favor of a constraint\n",
    "P_dis_max, P_chg_max,P_buy_max = 100e3,100e3,100e3 # kW \n",
    "Δt = 5.0/60.0 # hours\n",
    "P_ramp_max = 0.2*P_dis_max/Δt # kW/hr\n",
    "P_max = df_pmax_5min['System power generated | (kW)'].values\n",
    "prices = df_prices['Settlement Price'].values/1e3 # $/kWh\n",
    "\n",
    "N = df_prices.shape[0]\n",
    "model = gp.Model(\"Wind with battery dispatching\")\n",
    "Ps = model.addVars(range(N),vtype=gp.GRB.CONTINUOUS,lb=0,ub=P_dis_max,name='Power sold')\n",
    "Pg = model.addVars(range(N),vtype=gp.GRB.CONTINUOUS,lb=0,ub=P_chg_max,name='Power generated')\n",
    "Pb = model.addVars(range(N),vtype=gp.GRB.CONTINUOUS,lb=0,ub=P_buy_max,name='Power generated')\n",
    "S = model.addVars(range(N),vtype=gp.GRB.CONTINUOUS,lb=0,ub=s_max,name='Stored energy')\n",
    "\n",
    "# setting the initials to zero since they are in the past\n",
    "model.addConstr(S[0]==s0)\n",
    "model.addConstr(Ps[0]==0)\n",
    "model.addConstr(Pg[0]==0)\n",
    "model.addConstr(Pb[0]==0)\n",
    "\n",
    "# storage constraints\n",
    "model.addConstrs((S[ii] == S[ii-1] - Ps[ii]*Δt + Pg[ii]*Δt + Pb[ii]*Δt for ii in range(1,N)))\n",
    "\n",
    "# power capacity constraints\n",
    "model.addConstrs((Pg[ii]<=P_max[ii] for ii in range(1,N)))\n",
    "model.addConstrs((Pg[ii]+Pb[ii]<=P_chg_max for ii in range(1,N)))\n",
    "\n",
    "# ramping constraint (linearized absolute value)\n",
    "model.addConstrs(((Ps[ii]-Pb[ii]) - (Ps[ii-1] - Pb[ii-1]) <= P_ramp_max*Δt for ii in range(1,N))) \n",
    "model.addConstrs(((Ps[ii-1]-Pb[ii-1]) - (Ps[ii] - Pb[ii]) <= P_ramp_max*Δt for ii in range(1,N)))\n",
    "\n",
    "# objective (revenue for now)\n",
    "model.setObjective(Δt*gp.quicksum((  prices[ii]*(Ps[ii]-Pb[ii]) - Cg*Pg[ii] - Cs*Ps[ii] for ii in range(1,N))),sense=gp.GRB.MAXIMIZE)\n",
    "\n"
   ]
  },
  {
   "cell_type": "code",
   "execution_count": null,
   "id": "89cca50a",
   "metadata": {},
   "outputs": [],
   "source": [
    "model.optimize()"
   ]
  },
  {
   "cell_type": "code",
   "execution_count": null,
   "id": "5e450e14",
   "metadata": {},
   "outputs": [],
   "source": [
    "power_sold = []\n",
    "power_generated = []\n",
    "power_bought = []\n",
    "storage = []\n",
    "revenue = 0.0\n",
    "for ii in range(N):\n",
    "    power_sold += [Ps[ii].X]\n",
    "    power_generated += [Pg[ii].X]\n",
    "    power_bought += [Pb[ii].X]\n",
    "    storage += [S[ii].X]\n",
    "    revenue += prices[ii]*(Ps[ii].X-Pb[ii].X)*Δt\n",
    "\n",
    "power_generated = np.array(power_generated)\n",
    "power_bought = np.array(power_bought)\n",
    "power_sold = np.array(power_sold)\n",
    "storage = np.array(storage)\n",
    "ramp_rate = np.diff(power_sold-power_bought,prepend=np.nan)/Δt"
   ]
  },
  {
   "cell_type": "code",
   "execution_count": null,
   "id": "a24aef8b",
   "metadata": {},
   "outputs": [],
   "source": [
    "fig,ax = plt.subplots(nrows=4,figsize=(7,8))\n",
    "time = df_prices.index\n",
    "ax[0].plot(time,(power_sold-power_bought)/1e3,label='Net export')\n",
    "ax[0].plot(time,power_generated/1e3,label='Generated')\n",
    "# ax.plot(time,P_max-power_generated/1e3,label='Curtailed')\n",
    "ax[0].set_ylabel('Power (MW)')\n",
    "ax[0].set_xticklabels([]) \n",
    "ax[0].legend(loc='best')\n",
    "\n",
    "ax[1].plot(time,storage/1e3,label='Storage',color='green')\n",
    "ax[1].axhline(s_max/1000,ls='--',color='red',label='Limits')\n",
    "ax[1].axhline(0,ls='--',color='red')\n",
    "ax[1].set_xticklabels([]) \n",
    "ax[1].set_ylabel(\"Stored energy (MWh)\")\n",
    "ax[1].legend(loc='best')\n",
    "\n",
    "ax[2].plot(time,prices*1e3,label='Prices')\n",
    "ax[2].set_xticklabels([]) \n",
    "ax[2].set_ylabel(\"Prices ($/MWh)\")\n",
    "\n",
    "ax[3].plot(time,ramp_rate/1000.0/60.0,label='Ramp rate')\n",
    "ax[3].set_ylabel(\"Ramp rate (Net MW sold/min)\")\n",
    "ax[3].axhline(P_ramp_max/1000/60.0,ls='--',color='red',label='Limits')\n",
    "ax[3].axhline(-P_ramp_max/1000/60.0,ls='--',color='red')\n",
    "ax[3].legend(loc='best')\n",
    "\n",
    "fig.tight_layout()\n",
    "ax[0].set_title(f'Objective: {model.objVal:.3e} AUD, Revenue: {revenue:.3e} AUD')\n",
    "\n"
   ]
  }
 ],
 "metadata": {
  "kernelspec": {
   "display_name": "enn555",
   "language": "python",
   "name": "python3"
  },
  "language_info": {
   "codemirror_mode": {
    "name": "ipython",
    "version": 3
   },
   "file_extension": ".py",
   "mimetype": "text/x-python",
   "name": "python",
   "nbconvert_exporter": "python",
   "pygments_lexer": "ipython3",
   "version": "3.10.9"
  }
 },
 "nbformat": 4,
 "nbformat_minor": 5
}
